{
 "cells": [
  {
   "cell_type": "markdown",
   "metadata": {},
   "source": [
    "Import Pakages"
   ]
  },
  {
   "cell_type": "code",
   "execution_count": null,
   "metadata": {},
   "outputs": [],
   "source": [
    "import pandas as pd\n",
    "import pyodbc\n",
    "import numpy as np\n",
    "import openpyxl"
   ]
  },
  {
   "cell_type": "markdown",
   "metadata": {},
   "source": [
    "Getting Tables From SQL Server"
   ]
  },
  {
   "cell_type": "code",
   "execution_count": null,
   "metadata": {},
   "outputs": [],
   "source": [
    "server = 'den1.mssql7.gear.host' \n",
    "database = 'agridatabase' \n",
    "username = 'agridatabase' \n",
    "password = 'you_can_enter_now'\n",
    "conn = pyodbc.connect('DRIVER={SQL Server};SERVER='+server+';DATABASE='+database+';UID='+username+';PWD='+ password)\n",
    "cursor = conn.cursor()\n",
    "\n",
    "df_asia = pd.read_sql(\"SELECT * FROM agridatabase..Production_Crops_E_Asia\", conn)"
   ]
  },
  {
   "cell_type": "markdown",
   "metadata": {},
   "source": [
    "Getting Tables From Local Disk"
   ]
  },
  {
   "cell_type": "code",
   "execution_count": null,
   "metadata": {},
   "outputs": [],
   "source": [
    "# df_africa = pd.read_csv('production_crops_e_africa.csv')\n",
    "df_americas = pd.read_csv('production_crops_e_americas.csv')\n",
    "# df_asia = pd.read_csv('production_crops_e_asia.csv')\n",
    "# df_europe = pd.read_csv('production_crops_e_europe.csv')\n",
    "# df_oceania = pd.read_csv('production_crops_e_oceania.csv')"
   ]
  },
  {
   "cell_type": "markdown",
   "metadata": {},
   "source": [
    "Droping null columns"
   ]
  },
  {
   "cell_type": "code",
   "execution_count": null,
   "metadata": {},
   "outputs": [],
   "source": [
    "column = [col for col in df_americas.columns if 'f' not in col]\n",
    "\n",
    "# df_africa = df_africa[column]\n",
    "df_americas = df_americas[column]\n",
    "# df_asia = df_asia[column]\n",
    "# df_europe = df_europe[column]\n",
    "# df_oceania = df_oceania[column]"
   ]
  },
  {
   "cell_type": "code",
   "execution_count": null,
   "metadata": {},
   "outputs": [],
   "source": [
    "# df_asia[(df_asia.Area == 'Bangladesh') & (df_asia.Item == 'Tea') & (df_asia.Element == 'Production')].iloc[0, 2018-1954]\n",
    "# df[df.area == country][df.item == item][df.element == element].iloc[0, year-1954]\n",
    "# df_americas[(df_americas.area == 'Argentina') & (df_americas.item == 'Barley') & (df_americas.element == 'Production')]"
   ]
  },
  {
   "cell_type": "markdown",
   "metadata": {},
   "source": [
    "Funtions For Transformation"
   ]
  },
  {
   "cell_type": "code",
   "execution_count": null,
   "metadata": {},
   "outputs": [],
   "source": [
    "def get_value(df, country, item, year, element):\n",
    "    try:\n",
    "        value = df[(df.area == country) & (df.item == item) & (df.element == element)].iloc[0, year-1954]\n",
    "    except:\n",
    "        value = 0\n",
    "    return 0 if pd.isnull(value) else int(value)\n",
    "\n",
    "def transform_table(df, continent, elements):\n",
    "    countries = df.area.unique()\n",
    "    items = df.item.unique()\n",
    "    trans_df = pd.DataFrame()\n",
    "    raw_df = pd.DataFrame()\n",
    "    for country in countries:\n",
    "        print('running... ', country)\n",
    "        for item in items:\n",
    "            for year in np.arange(1961, 2020):\n",
    "                Yield = get_value(df, country, item, year, elements[0])\n",
    "                harvested = get_value(df, country, item, year, elements[1])\n",
    "                production = get_value(df, country, item, year, elements[2])\n",
    "                row = pd.DataFrame({'country':[country],'continent':[continent] , 'item':[item], 'year':[year], 'yield':[Yield], 'harvested':[harvested], 'production':[production]})\n",
    "                raw_df = pd.concat([raw_df, row], ignore_index=True, axis=0)\n",
    "            \n",
    "            if not (raw_df[['yield', 'harvested', 'production']] == 0).all().all():\n",
    "                trans_df = pd.concat([trans_df, raw_df], ignore_index=False, axis=0)\n",
    "            raw_df = pd.DataFrame()\n",
    "    return trans_df\n",
    "        "
   ]
  },
  {
   "cell_type": "markdown",
   "metadata": {},
   "source": [
    "Transforming"
   ]
  },
  {
   "cell_type": "code",
   "execution_count": null,
   "metadata": {},
   "outputs": [],
   "source": [
    "elements = np.array(['Yield', 'Area harvested', 'Production'])\n",
    "\n",
    "# trans_df_africa = transform_table(df_africa, 'Africa', elements)\n",
    "trans_df_americas = transform_table(df_americas, 'America', elements)\n",
    "# trans_df_asia = transform_table(df_asia, 'Asia', elements = [])\n",
    "# trans_df_europe = transform_table(df_europe, 'Europe', elements)\n",
    "# trans_df_oceania = transform_table(df_oceania, 'Oceania', elements)"
   ]
  },
  {
   "cell_type": "markdown",
   "metadata": {},
   "source": [
    "Saving New Generated Databases"
   ]
  },
  {
   "cell_type": "code",
   "execution_count": null,
   "metadata": {},
   "outputs": [],
   "source": [
    "# trans_df_africa.to_csv('trans_df_africa.csv', index=False)\n",
    "# trans_df_africa.to_excel('trans_df_africa.xlsx', index=False)\n",
    "\n",
    "trans_df_americas.to_csv('trans_df_americas.csv', index=False)\n",
    "trans_df_americas.to_excel('trans_df_americas.xlsx', index=False)\n",
    "\n",
    "# trans_df_asia.to_csv('trans_df_asia.csv', index=False)\n",
    "# trans_df_asia.to_excel('trans_df_asia.xlsx', index=False)\n",
    "\n",
    "# trans_df_europe.to_csv('trans_df_europe.csv', index=False)\n",
    "# trans_df_europe.to_excel('trans_df_europe.xlsx', index=False)\n",
    "\n",
    "# trans_df_oceania.to_csv('trans_df_oceania.csv', index=False)\n",
    "# trans_df_oceania.to_excel('trans_df_oceania.xlsx', index=False)"
   ]
  }
 ],
 "metadata": {
  "kernelspec": {
   "display_name": "Python 3.9.13 ('myenv')",
   "language": "python",
   "name": "python3"
  },
  "language_info": {
   "codemirror_mode": {
    "name": "ipython",
    "version": 3
   },
   "file_extension": ".py",
   "mimetype": "text/x-python",
   "name": "python",
   "nbconvert_exporter": "python",
   "pygments_lexer": "ipython3",
   "version": "3.9.13"
  },
  "orig_nbformat": 4,
  "vscode": {
   "interpreter": {
    "hash": "2fa91181700b9d56114db6b4dcac1f812d6e831e5269e570ea3b5c0c3eb35a85"
   }
  }
 },
 "nbformat": 4,
 "nbformat_minor": 2
}
